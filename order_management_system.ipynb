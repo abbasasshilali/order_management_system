{
 "cells": [
  {
   "cell_type": "code",
   "execution_count": 1,
   "id": "6c43166c-1517-4032-a9ea-890bd95b6896",
   "metadata": {},
   "outputs": [
    {
     "name": "stdout",
     "output_type": "stream",
     "text": [
      "\n",
      "--- Order Management System ---\n",
      "1. Add Customer\n",
      "2. Add Product\n",
      "3. Place Order\n",
      "4. Process Orders\n",
      "5. Generate Financial Report\n",
      "6. Exit\n"
     ]
    },
    {
     "name": "stdin",
     "output_type": "stream",
     "text": [
      "Enter your choice:  1\n",
      "Enter Customer ID:  001\n",
      "Enter Customer Name:  abbas\n",
      "Enter Customer Email:  abbasashikali786786@gmail.com\n",
      "Enter Contact Info:  8870206166\n"
     ]
    },
    {
     "name": "stdout",
     "output_type": "stream",
     "text": [
      "Customer abbas added successfully!\n",
      "\n",
      "--- Order Management System ---\n",
      "1. Add Customer\n",
      "2. Add Product\n",
      "3. Place Order\n",
      "4. Process Orders\n",
      "5. Generate Financial Report\n",
      "6. Exit\n"
     ]
    },
    {
     "name": "stdin",
     "output_type": "stream",
     "text": [
      "Enter your choice:  2\n",
      "Enter Product ID:  p001\n",
      "Enter Product Name:  laptop\n",
      "Enter Product Price:  50000\n",
      "Enter Quantity in Stock:  10\n"
     ]
    },
    {
     "name": "stdout",
     "output_type": "stream",
     "text": [
      "Product laptop added successfully!\n",
      "\n",
      "--- Order Management System ---\n",
      "1. Add Customer\n",
      "2. Add Product\n",
      "3. Place Order\n",
      "4. Process Orders\n",
      "5. Generate Financial Report\n",
      "6. Exit\n"
     ]
    },
    {
     "name": "stdin",
     "output_type": "stream",
     "text": [
      "Enter your choice:  2\n",
      "Enter Product ID:  p002\n",
      "Enter Product Name:  iphone\n",
      "Enter Product Price:  100000\n",
      "Enter Quantity in Stock:  20\n"
     ]
    },
    {
     "name": "stdout",
     "output_type": "stream",
     "text": [
      "Product iphone added successfully!\n",
      "\n",
      "--- Order Management System ---\n",
      "1. Add Customer\n",
      "2. Add Product\n",
      "3. Place Order\n",
      "4. Process Orders\n",
      "5. Generate Financial Report\n",
      "6. Exit\n"
     ]
    },
    {
     "name": "stdin",
     "output_type": "stream",
     "text": [
      "Enter your choice:  3\n",
      "Enter Order ID:  o001\n",
      "Enter Customer ID:  001\n",
      "Enter Product ID (or 'done' to finish):  p001\n",
      "Enter Quantity:  2\n",
      "Enter Product ID (or 'done' to finish):  p002\n",
      "Enter Quantity:  5\n",
      "Enter Product ID (or 'done' to finish):  done\n"
     ]
    },
    {
     "name": "stdout",
     "output_type": "stream",
     "text": [
      "Order o001 placed successfully for customer abbas!\n",
      "\n",
      "--- Order Management System ---\n",
      "1. Add Customer\n",
      "2. Add Product\n",
      "3. Place Order\n",
      "4. Process Orders\n",
      "5. Generate Financial Report\n",
      "6. Exit\n"
     ]
    },
    {
     "name": "stdin",
     "output_type": "stream",
     "text": [
      "Enter your choice:  4\n"
     ]
    },
    {
     "name": "stdout",
     "output_type": "stream",
     "text": [
      "Inventory updated after processing orders:\n",
      "Product: laptop | Quantity in stock: 8\n",
      "Product: iphone | Quantity in stock: 15\n",
      "\n",
      "--- Order Management System ---\n",
      "1. Add Customer\n",
      "2. Add Product\n",
      "3. Place Order\n",
      "4. Process Orders\n",
      "5. Generate Financial Report\n",
      "6. Exit\n"
     ]
    },
    {
     "name": "stdin",
     "output_type": "stream",
     "text": [
      "Enter your choice:  5\n"
     ]
    },
    {
     "name": "stdout",
     "output_type": "stream",
     "text": [
      "Order ID: o001 | Customer: abbas | Total: ₹600000.0\n",
      "Total Revenue: ₹600000.0\n",
      "Profit: ₹600000.0\n",
      "\n",
      "--- Order Management System ---\n",
      "1. Add Customer\n",
      "2. Add Product\n",
      "3. Place Order\n",
      "4. Process Orders\n",
      "5. Generate Financial Report\n",
      "6. Exit\n"
     ]
    },
    {
     "name": "stdin",
     "output_type": "stream",
     "text": [
      "Enter your choice:  6\n"
     ]
    },
    {
     "name": "stdout",
     "output_type": "stream",
     "text": [
      "Exiting...\n"
     ]
    }
   ],
   "source": [
    "# Phase 1: Design and Create Classes (OOP)\n",
    "\n",
    "class Customer:\n",
    "    def __init__(self, customer_id, name, email, contact_info):\n",
    "        self.customer_id = customer_id\n",
    "        self.name = name\n",
    "        self.email = email\n",
    "        self.contact_info = contact_info\n",
    "\n",
    "class Product:\n",
    "    def __init__(self, product_id, name, price, quantity_in_stock):\n",
    "        self.product_id = product_id\n",
    "        self.name = name\n",
    "        self.price = price\n",
    "        self.quantity_in_stock = quantity_in_stock\n",
    "\n",
    "class Order:\n",
    "    def __init__(self, order_id, customer, products):\n",
    "        self.order_id = order_id\n",
    "        self.customer = customer\n",
    "        self.products = products  # A list of tuples: (product, quantity)\n",
    "\n",
    "# Phase 2: Implement Functions\n",
    "\n",
    "customers = []\n",
    "products = []\n",
    "orders = []\n",
    "\n",
    "def add_customer(customer_id, name, email, contact_info):\n",
    "    customer = Customer(customer_id, name, email, contact_info)\n",
    "    customers.append(customer)\n",
    "    print(f\"Customer {name} added successfully!\")\n",
    "\n",
    "def add_product(product_id, name, price, quantity_in_stock):\n",
    "    product = Product(product_id, name, price, quantity_in_stock)\n",
    "    products.append(product)\n",
    "    print(f\"Product {name} added successfully!\")\n",
    "\n",
    "def place_order(order_id, customer_id, product_orders):\n",
    "    customer = next((c for c in customers if c.customer_id == customer_id), None)\n",
    "    if not customer:\n",
    "        print(\"Customer not found!\")\n",
    "        return\n",
    "    \n",
    "    order_products = []\n",
    "    for product_id, quantity in product_orders:\n",
    "        product = next((p for p in products if p.product_id == product_id), None)\n",
    "        if product and product.quantity_in_stock >= quantity:\n",
    "            order_products.append((product, quantity))\n",
    "            product.quantity_in_stock -= quantity\n",
    "        else:\n",
    "            print(f\"Product {product.name} is out of stock or insufficient quantity.\")\n",
    "    \n",
    "    if order_products:\n",
    "        order = Order(order_id, customer, order_products)\n",
    "        orders.append(order)\n",
    "        print(f\"Order {order_id} placed successfully for customer {customer.name}!\")\n",
    "\n",
    "# Phase 3: Order Management\n",
    "\n",
    "def process_orders():\n",
    "    total_revenue = 0\n",
    "    for order in orders:\n",
    "        order_total = 0\n",
    "        for product, quantity in order.products:\n",
    "            order_total += product.price * quantity\n",
    "        total_revenue += order_total\n",
    "        print(f\"Order ID: {order.order_id} | Customer: {order.customer.name} | Total: ₹{order_total}\")\n",
    "    return total_revenue\n",
    "\n",
    "def update_inventory():\n",
    "    print(\"Inventory updated after processing orders:\")\n",
    "    for product in products:\n",
    "        print(f\"Product: {product.name} | Quantity in stock: {product.quantity_in_stock}\")\n",
    "\n",
    "# Phase 4: Financial Tracking\n",
    "\n",
    "def generate_financial_report():\n",
    "    total_revenue = process_orders()\n",
    "    print(f\"Total Revenue: ₹{total_revenue}\")\n",
    "    # Assuming no expenses for simplicity in this version\n",
    "    total_expenses = 0\n",
    "    profit = total_revenue - total_expenses\n",
    "    print(f\"Profit: ₹{profit}\")\n",
    "\n",
    "# Phase 5: User Interface\n",
    "\n",
    "def user_interface():\n",
    "    while True:\n",
    "        print(\"\\n--- Order Management System ---\")\n",
    "        print(\"1. Add Customer\")\n",
    "        print(\"2. Add Product\")\n",
    "        print(\"3. Place Order\")\n",
    "        print(\"4. Process Orders\")\n",
    "        print(\"5. Generate Financial Report\")\n",
    "        print(\"6. Exit\")\n",
    "        choice = input(\"Enter your choice: \")\n",
    "\n",
    "        if choice == '1':\n",
    "            customer_id = input(\"Enter Customer ID: \")\n",
    "            name = input(\"Enter Customer Name: \")\n",
    "            email = input(\"Enter Customer Email: \")\n",
    "            contact_info = input(\"Enter Contact Info: \")\n",
    "            add_customer(customer_id, name, email, contact_info)\n",
    "\n",
    "        elif choice == '2':\n",
    "            product_id = input(\"Enter Product ID: \")\n",
    "            name = input(\"Enter Product Name: \")\n",
    "            price = float(input(\"Enter Product Price: \"))\n",
    "            quantity_in_stock = int(input(\"Enter Quantity in Stock: \"))\n",
    "            add_product(product_id, name, price, quantity_in_stock)\n",
    "\n",
    "        elif choice == '3':\n",
    "            order_id = input(\"Enter Order ID: \")\n",
    "            customer_id = input(\"Enter Customer ID: \")\n",
    "            product_orders = []\n",
    "            while True:\n",
    "                product_id = input(\"Enter Product ID (or 'done' to finish): \")\n",
    "                if product_id == 'done':\n",
    "                    break\n",
    "                quantity = int(input(\"Enter Quantity: \"))\n",
    "                product_orders.append((product_id, quantity))\n",
    "            place_order(order_id, customer_id, product_orders)\n",
    "\n",
    "        elif choice == '4':\n",
    "            update_inventory()\n",
    "\n",
    "        elif choice == '5':\n",
    "            generate_financial_report()\n",
    "\n",
    "        elif choice == '6':\n",
    "            print(\"Exiting...\")\n",
    "            break\n",
    "\n",
    "        else:\n",
    "            print(\"Invalid choice! Please try again.\")\n",
    "\n",
    "# Run the user interface to interact with the system\n",
    "user_interface()\n"
   ]
  },
  {
   "cell_type": "code",
   "execution_count": null,
   "id": "04e3c52e-d638-4ebc-929d-886e596ff41b",
   "metadata": {},
   "outputs": [],
   "source": []
  }
 ],
 "metadata": {
  "kernelspec": {
   "display_name": "Python 3 (ipykernel)",
   "language": "python",
   "name": "python3"
  },
  "language_info": {
   "codemirror_mode": {
    "name": "ipython",
    "version": 3
   },
   "file_extension": ".py",
   "mimetype": "text/x-python",
   "name": "python",
   "nbconvert_exporter": "python",
   "pygments_lexer": "ipython3",
   "version": "3.12.4"
  }
 },
 "nbformat": 4,
 "nbformat_minor": 5
}
